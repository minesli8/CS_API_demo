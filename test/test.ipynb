{
 "cells": [
  {
   "cell_type": "code",
   "execution_count": 31,
   "metadata": {},
   "outputs": [],
   "source": [
    "import requests"
   ]
  },
  {
   "cell_type": "code",
   "execution_count": 35,
   "metadata": {},
   "outputs": [
    {
     "data": {
      "text/plain": [
       "{'Sentiment': 'Negative',\n",
       " 'partial_content': 'content=\"guce.yahoo.com\"/><meta name=\"msapplication-TileColor\" content=\"#6e329d\"/><meta name=\"msapplication-TileImage\" content=\"https://s.yimg.com/os/mit/media/p/presentation/images/icons/win8-tile-1484740.png\"/><meta name=\"referrer\" content=\"unsafe-url\"/><meta name=\"theme-color\" content=\"#400090\"/><meta name=\"twitter:dnt\" content=\"on\"/><meta name=\"twitter:site\" content=\"@YahooFinance\"/><meta name=\"news_keywords\" content=\"Warren Buffett\"/><meta name=\"apple-itunes-app\" content=\"app-id=304158842,app-argument=yahoo://article/view?uuid=d5a397d2-9861-387b-a000-4c5e469268f7&amp;src=web\"/><meta name=\"twitter:card\" content=\"summary_large_image\"/><meta name=\"twitter:description\" content=\"Sometimes identifying the best stocks to buy can be difficult, but you could do a lot worse than checking out the stocks selected by one of the world’s savviest hedge fund managers — Warren Buffett.  Buffett’s stock picks are a popular source for investors, and for good reason.  The billionaire Buffett\"/><meta ',\n",
       " 'url': 'https://finance.yahoo.com/news/7-stocks-warren-buffett-t-190502925.html'}"
      ]
     },
     "execution_count": 35,
     "metadata": {},
     "output_type": "execute_result"
    }
   ],
   "source": [
    "url = 'http://127.0.0.1:5000/sentiment'\n",
    "params ={'query': 'https://finance.yahoo.com/news/7-stocks-warren-buffett-t-190502925.html'}\n",
    "response = requests.get(url, params)\n",
    "response.json()"
   ]
  },
  {
   "cell_type": "code",
   "execution_count": null,
   "metadata": {},
   "outputs": [],
   "source": []
  },
  {
   "cell_type": "code",
   "execution_count": null,
   "metadata": {},
   "outputs": [],
   "source": []
  }
 ],
 "metadata": {
  "kernelspec": {
   "display_name": "Python 3",
   "language": "python",
   "name": "python3"
  },
  "language_info": {
   "codemirror_mode": {
    "name": "ipython",
    "version": 3
   },
   "file_extension": ".py",
   "mimetype": "text/x-python",
   "name": "python",
   "nbconvert_exporter": "python",
   "pygments_lexer": "ipython3",
   "version": "3.6.3"
  }
 },
 "nbformat": 4,
 "nbformat_minor": 2
}
